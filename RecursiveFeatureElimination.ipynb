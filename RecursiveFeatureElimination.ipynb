{
  "nbformat": 4,
  "nbformat_minor": 0,
  "metadata": {
    "colab": {
      "name": "RecursiveFeatureElimination.ipynb",
      "provenance": [],
      "collapsed_sections": [],
      "authorship_tag": "ABX9TyPf4gw/h7BoPmffQ0sxI3/x",
      "include_colab_link": true
    },
    "kernelspec": {
      "name": "python3",
      "display_name": "Python 3"
    }
  },
  "cells": [
    {
      "cell_type": "markdown",
      "metadata": {
        "id": "view-in-github",
        "colab_type": "text"
      },
      "source": [
        "<a href=\"https://colab.research.google.com/github/sayeemabdullah/Machine-Learning-Feature-Selection/blob/master/RecursiveFeatureElimination.ipynb\" target=\"_parent\"><img src=\"https://colab.research.google.com/assets/colab-badge.svg\" alt=\"Open In Colab\"/></a>"
      ]
    },
    {
      "cell_type": "code",
      "metadata": {
        "id": "Z6vMmdXNjLlf",
        "colab_type": "code",
        "colab": {
          "base_uri": "https://localhost:8080/",
          "height": 353
        },
        "outputId": "3e2de10e-879d-403c-a636-f6ce123428d0"
      },
      "source": [
        "import pandas as pd\n",
        "import numpy as np\n",
        "import matplotlib\n",
        "import matplotlib.pyplot as plt\n",
        "import seaborn as sns\n",
        "import statsmodels.api as sm\n",
        "%matplotlib inline\n",
        "from sklearn.model_selection import train_test_split\n",
        "from sklearn.linear_model import LinearRegression\n",
        "from sklearn.feature_selection import RFE\n",
        "from sklearn.linear_model import RidgeCV, LassoCV, Ridge, Lasso\n",
        "\n",
        "url_eeg = 'https://raw.githubusercontent.com/sayeemabdullah/Machine-Learning-Classifiers/master/Dataset/EEG_data.csv'\n",
        "url_demo = 'https://raw.githubusercontent.com/sayeemabdullah/Machine-Learning-Classifiers/master/Dataset/demographic_info.csv'\n",
        "df_eeg = pd.read_csv(url_eeg)\n",
        "df_demo = pd.read_csv(url_demo)\n",
        "# print(columns)\n",
        "df_eeg.drop(['SubjectID', 'VideoID', 'predefinedlabel'], axis='columns', inplace=True)\n",
        "columns = df_eeg.columns.drop('user-definedlabeln')\n",
        "# print(columns)\n",
        "X = df_eeg.drop('user-definedlabeln',axis=1).values\n",
        "y = df_eeg['user-definedlabeln'].values\n",
        "\n",
        "model = LinearRegression()\n",
        "rfe = RFE(model, 7)\n",
        "X_rfe = rfe.fit_transform(X,y)  \n",
        "model.fit(X_rfe,y)\n",
        "print(rfe.support_)\n",
        "print(rfe.ranking_)\n",
        "nof_list=np.arange(1,12)            \n",
        "high_score=0\n",
        "nof=0           \n",
        "score_list =[]\n",
        "for n in range(len(nof_list)):\n",
        "    X_train, X_test, y_train, y_test = train_test_split(X,y, test_size = 0.2, random_state = 0)\n",
        "    model = LinearRegression()\n",
        "    rfe = RFE(model,nof_list[n])\n",
        "    X_train_rfe = rfe.fit_transform(X_train,y_train)\n",
        "    X_test_rfe = rfe.transform(X_test)\n",
        "    model.fit(X_train_rfe,y_train)\n",
        "    score = model.score(X_test_rfe,y_test)\n",
        "    score_list.append(score)\n",
        "    if(score>high_score):\n",
        "        high_score = score\n",
        "        nof = nof_list[n]\n",
        "print(\"Optimum number of features: %d\" %nof)\n",
        "print(\"Score with %d features: %f\" % (nof, high_score))\n",
        "\n",
        "cols = list(columns)\n",
        "model = LinearRegression()\n",
        "print(cols)\n",
        "rfe = RFE(model, 12)             \n",
        "X_rfe = rfe.fit_transform(X,y)  \n",
        "model.fit(X_rfe,y)              \n",
        "temp = pd.Series(rfe.support_,index = cols)\n",
        "print(temp)\n",
        "selected_features_rfe = temp[temp==True].index\n",
        "print(selected_features_rfe)\n"
      ],
      "execution_count": 29,
      "outputs": [
        {
          "output_type": "stream",
          "text": [
            "[ True  True  True False False  True False  True False  True  True]\n",
            "[1 1 1 4 3 1 5 1 2 1 1]\n",
            "Optimum number of features: 11\n",
            "Score with 11 features: 0.038667\n",
            "['Attention', 'Mediation', 'Raw', 'Delta', 'Theta', 'Alpha1', 'Alpha2', 'Beta1', 'Beta2', 'Gamma1', 'Gamma2']\n",
            "Attention    True\n",
            "Mediation    True\n",
            "Raw          True\n",
            "Delta        True\n",
            "Theta        True\n",
            "Alpha1       True\n",
            "Alpha2       True\n",
            "Beta1        True\n",
            "Beta2        True\n",
            "Gamma1       True\n",
            "Gamma2       True\n",
            "dtype: bool\n",
            "Index(['Attention', 'Mediation', 'Raw', 'Delta', 'Theta', 'Alpha1', 'Alpha2',\n",
            "       'Beta1', 'Beta2', 'Gamma1', 'Gamma2'],\n",
            "      dtype='object')\n"
          ],
          "name": "stdout"
        }
      ]
    }
  ]
}